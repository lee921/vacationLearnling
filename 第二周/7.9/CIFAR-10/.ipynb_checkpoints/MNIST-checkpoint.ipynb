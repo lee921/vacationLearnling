{
 "cells": [
  {
   "cell_type": "markdown",
   "metadata": {},
   "source": [
    "# 设置环境"
   ]
  },
  {
   "cell_type": "code",
   "execution_count": 2,
   "metadata": {},
   "outputs": [],
   "source": [
    "import torch\n",
    "import torchvision\n",
    "from torch.utils.data import DataLoader"
   ]
  },
  {
   "cell_type": "markdown",
   "metadata": {},
   "source": [
    "# 准备数据集\n",
    "导入就绪后，我们可以继续准备将要使用的数据。但在那之前，我们将定义超参数，我们将使用的实验。在这里，epoch的数量定义了我们将循环整个训练数据集的次数，而learning_rate和momentum是我们稍后将使用的优化器的超参数。"
   ]
  },
  {
   "cell_type": "code",
   "execution_count": 3,
   "metadata": {},
   "outputs": [
    {
     "data": {
      "text/plain": [
       "<torch._C.Generator at 0x1e84f84c150>"
      ]
     },
     "execution_count": 3,
     "metadata": {},
     "output_type": "execute_result"
    }
   ],
   "source": [
    "n_epochs = 3\n",
    "batch_size_train = 64\n",
    "batch_size_test = 1000\n",
    "learning_rate = 0.01\n",
    "momentum = 0.5\n",
    "log_interval = 10\n",
    "random_seed = 1\n",
    "torch.manual_seed(random_seed)"
   ]
  },
  {
   "cell_type": "code",
   "execution_count": 5,
   "metadata": {},
   "outputs": [],
   "source": [
    "train_loader = torch.utils.data.DataLoader(\n",
    "  torchvision.datasets.MNIST('./data/', train=True, download=True,\n",
    "                             transform=torchvision.transforms.Compose([\n",
    "                               torchvision.transforms.ToTensor(),\n",
    "                               torchvision.transforms.Normalize(\n",
    "                                 (0.1307,), (0.3081,))\n",
    "                             ])),\n",
    "  batch_size=batch_size_train, shuffle=True)\n",
    "test_loader = torch.utils.data.DataLoader(\n",
    "  torchvision.datasets.MNIST('./data/', train=False, download=True,\n",
    "                             transform=torchvision.transforms.Compose([\n",
    "                               torchvision.transforms.ToTensor(),\n",
    "                               torchvision.transforms.Normalize(\n",
    "                                 (0.1307,), (0.3081,))\n",
    "                             ])),\n",
    "  batch_size=batch_size_test, shuffle=True)"
   ]
  },
  {
   "cell_type": "code",
   "execution_count": 6,
   "metadata": {},
   "outputs": [
    {
     "name": "stdout",
     "output_type": "stream",
     "text": [
      "tensor([4, 4, 2, 1, 8, 8, 2, 8, 3, 8, 5, 5, 5, 3, 0, 3, 6, 3, 0, 7, 0, 7, 2, 3,\n",
      "        3, 4, 8, 2, 6, 1, 1, 2, 9, 5, 8, 2, 0, 3, 2, 3, 9, 9, 9, 3, 7, 9, 5, 7,\n",
      "        2, 1, 6, 7, 2, 9, 3, 1, 3, 2, 0, 4, 8, 7, 5, 2, 4, 6, 5, 3, 9, 8, 9, 6,\n",
      "        2, 8, 3, 9, 5, 9, 5, 0, 0, 4, 0, 2, 3, 0, 2, 8, 5, 8, 2, 2, 1, 3, 1, 5,\n",
      "        1, 7, 2, 8, 8, 4, 2, 2, 9, 3, 1, 1, 4, 7, 2, 8, 7, 6, 2, 7, 6, 3, 6, 1,\n",
      "        9, 0, 9, 7, 7, 9, 4, 0, 9, 4, 0, 2, 0, 7, 5, 9, 0, 4, 6, 7, 9, 4, 2, 4,\n",
      "        0, 1, 2, 1, 4, 9, 3, 5, 3, 7, 8, 8, 3, 8, 5, 9, 1, 8, 3, 6, 8, 3, 3, 8,\n",
      "        1, 6, 7, 4, 3, 3, 5, 6, 9, 6, 0, 2, 5, 1, 8, 0, 1, 4, 1, 1, 1, 7, 2, 7,\n",
      "        1, 1, 0, 4, 7, 2, 4, 6, 1, 4, 3, 6, 2, 7, 5, 4, 1, 3, 3, 3, 4, 7, 8, 0,\n",
      "        4, 3, 5, 8, 9, 4, 1, 9, 4, 7, 7, 1, 9, 6, 0, 4, 2, 9, 2, 1, 3, 6, 6, 0,\n",
      "        2, 2, 0, 0, 2, 5, 8, 9, 7, 0, 0, 9, 2, 0, 9, 2, 6, 9, 9, 5, 4, 3, 2, 9,\n",
      "        9, 4, 3, 5, 1, 3, 8, 5, 8, 4, 9, 5, 1, 4, 4, 6, 0, 7, 6, 8, 8, 8, 0, 9,\n",
      "        8, 4, 5, 9, 4, 6, 3, 9, 9, 4, 5, 6, 1, 1, 8, 6, 9, 7, 1, 3, 6, 0, 1, 9,\n",
      "        0, 6, 1, 6, 2, 8, 3, 1, 9, 0, 3, 0, 8, 1, 0, 0, 6, 3, 7, 3, 1, 0, 5, 0,\n",
      "        7, 1, 5, 5, 5, 2, 5, 1, 4, 3, 4, 8, 5, 8, 4, 6, 3, 2, 3, 9, 7, 0, 9, 0,\n",
      "        6, 1, 8, 4, 8, 8, 8, 1, 3, 5, 7, 1, 3, 1, 6, 0, 8, 7, 7, 3, 4, 2, 9, 6,\n",
      "        8, 1, 2, 4, 4, 7, 2, 6, 1, 5, 4, 8, 8, 1, 7, 2, 7, 7, 5, 7, 3, 0, 9, 2,\n",
      "        3, 7, 4, 6, 6, 5, 3, 1, 7, 3, 7, 3, 3, 9, 0, 7, 3, 4, 3, 6, 5, 8, 0, 7,\n",
      "        9, 6, 9, 9, 3, 4, 5, 8, 2, 6, 2, 1, 3, 1, 1, 3, 9, 2, 6, 4, 0, 7, 4, 8,\n",
      "        1, 5, 8, 2, 1, 7, 2, 7, 7, 8, 9, 5, 6, 5, 9, 3, 5, 4, 7, 6, 6, 6, 2, 0,\n",
      "        3, 3, 7, 0, 5, 7, 5, 2, 7, 1, 7, 2, 7, 2, 5, 9, 1, 0, 3, 5, 2, 5, 8, 1,\n",
      "        6, 9, 1, 7, 1, 1, 0, 5, 8, 9, 6, 3, 3, 4, 5, 7, 3, 0, 1, 6, 5, 8, 8, 1,\n",
      "        3, 3, 4, 7, 0, 0, 3, 4, 3, 4, 1, 1, 2, 5, 3, 1, 5, 2, 5, 8, 0, 2, 8, 8,\n",
      "        7, 3, 7, 4, 3, 1, 8, 0, 4, 9, 9, 1, 0, 6, 5, 8, 7, 0, 2, 1, 2, 4, 2, 3,\n",
      "        9, 1, 0, 6, 6, 6, 6, 4, 2, 5, 2, 0, 4, 8, 4, 2, 0, 0, 7, 0, 4, 2, 7, 5,\n",
      "        7, 8, 2, 1, 6, 6, 7, 9, 2, 9, 9, 9, 0, 9, 0, 6, 9, 8, 1, 3, 1, 4, 8, 8,\n",
      "        7, 1, 0, 8, 2, 0, 7, 9, 4, 4, 5, 7, 6, 8, 8, 9, 3, 4, 9, 7, 8, 9, 7, 7,\n",
      "        1, 1, 2, 0, 7, 8, 5, 7, 3, 4, 7, 7, 1, 7, 6, 4, 5, 3, 6, 3, 0, 8, 2, 2,\n",
      "        1, 7, 7, 2, 1, 7, 5, 4, 2, 4, 2, 1, 2, 7, 9, 5, 7, 3, 7, 1, 9, 0, 0, 5,\n",
      "        6, 1, 9, 4, 2, 6, 7, 3, 5, 5, 0, 1, 2, 7, 1, 4, 5, 7, 1, 5, 4, 5, 7, 4,\n",
      "        7, 7, 1, 0, 9, 1, 6, 7, 5, 3, 0, 3, 3, 8, 2, 2, 7, 2, 9, 3, 0, 2, 2, 6,\n",
      "        0, 2, 4, 2, 0, 1, 2, 7, 6, 7, 1, 7, 9, 6, 4, 5, 1, 6, 8, 4, 0, 5, 2, 7,\n",
      "        5, 4, 3, 3, 4, 6, 8, 5, 7, 6, 7, 0, 4, 2, 3, 5, 7, 6, 6, 8, 2, 1, 3, 4,\n",
      "        8, 5, 9, 2, 8, 9, 4, 5, 9, 7, 0, 7, 2, 3, 0, 4, 6, 6, 6, 2, 9, 7, 4, 2,\n",
      "        7, 4, 9, 7, 7, 5, 0, 1, 2, 8, 2, 2, 3, 1, 7, 9, 6, 9, 5, 2, 0, 1, 8, 9,\n",
      "        1, 5, 6, 9, 9, 1, 0, 4, 5, 0, 9, 8, 9, 4, 7, 8, 2, 2, 6, 6, 7, 2, 6, 3,\n",
      "        7, 1, 0, 1, 2, 2, 9, 0, 2, 7, 6, 2, 3, 1, 7, 7, 1, 9, 0, 9, 7, 1, 4, 4,\n",
      "        5, 8, 2, 8, 1, 4, 6, 4, 3, 9, 9, 2, 8, 2, 3, 6, 6, 5, 1, 1, 2, 7, 4, 9,\n",
      "        5, 7, 7, 8, 1, 6, 2, 9, 0, 4, 1, 0, 6, 1, 1, 1, 1, 2, 9, 9, 5, 3, 1, 2,\n",
      "        1, 8, 3, 4, 5, 1, 9, 3, 6, 1, 6, 1, 9, 9, 8, 9, 9, 1, 6, 1, 4, 7, 5, 1,\n",
      "        8, 5, 6, 7, 5, 9, 0, 3, 2, 0, 2, 4, 6, 5, 3, 1, 6, 5, 4, 5, 0, 8, 3, 1,\n",
      "        9, 8, 7, 7, 3, 6, 5, 4, 9, 5, 3, 9, 1, 4, 9, 7])\n",
      "torch.Size([1000, 1, 28, 28])\n"
     ]
    }
   ],
   "source": [
    "examples = enumerate(test_loader)\n",
    "batch_idx, (example_data, example_targets) = next(examples)\n",
    "print(example_targets)\n",
    "print(example_data.shape)"
   ]
  },
  {
   "cell_type": "code",
   "execution_count": 7,
   "metadata": {},
   "outputs": [
    {
     "data": {
      "image/png": "[encoded data removed]",
      "text/plain": [
       "<Figure size 432x288 with 6 Axes>"
      ]
     },
     "metadata": {},
     "output_type": "display_data"
    }
   ],
   "source": [
    "import matplotlib.pyplot as plt\n",
    "fig = plt.figure()\n",
    "for i in range(6):\n",
    "  plt.subplot(2,3,i+1)\n",
    "  plt.tight_layout()\n",
    "  plt.imshow(example_data[i][0], cmap='gray', interpolation='none')\n",
    "  plt.title(\"Ground Truth: {}\".format(example_targets[i]))\n",
    "  plt.xticks([])\n",
    "  plt.yticks([])\n",
    "plt.show()"
   ]
  },
  {
   "cell_type": "markdown",
   "metadata": {},
   "source": [
    "# 构建网络\n",
    "现在让我们开始建立我们的网络。我们将使用两个2d卷积层，然后是两个全连接(或线性)层。作为激活函数，我们将选择整流线性单元(简称ReLUs)，作为正则化的手段，我们将使用两个dropout层。在PyTorch中，构建网络的一个好方法是为我们希望构建的网络创建一个新类。让我们在这里导入一些子模块，以获得更具可读性的代码。"
   ]
  },
  {
   "cell_type": "code",
   "execution_count": 8,
   "metadata": {},
   "outputs": [],
   "source": [
    "import torch.nn as nn\n",
    "import torch.nn.functional as F\n",
    "import torch.optim as optim\n",
    "\n",
    "class Net(nn.Module):\n",
    "    def __init__(self):\n",
    "        super(Net, self).__init__()\n",
    "        self.conv1 = nn.Conv2d(1, 10, kernel_size=5)\n",
    "        self.conv2 = nn.Conv2d(10, 20, kernel_size=5)\n",
    "        self.conv2_drop = nn.Dropout2d()\n",
    "        self.fc1 = nn.Linear(320, 50)\n",
    "        self.fc2 = nn.Linear(50, 10)\n",
    "    def forward(self, x):\n",
    "        x = F.relu(F.max_pool2d(self.conv1(x), 2))\n",
    "        x = F.relu(F.max_pool2d(self.conv2_drop(self.conv2(x)), 2))\n",
    "        x = x.view(-1, 320)\n",
    "        x = F.relu(self.fc1(x))\n",
    "        x = F.dropout(x, training=self.training)\n",
    "        x = self.fc2(x)\n",
    "        return F.log_softmax(x)"
   ]
  },
  {
   "cell_type": "markdown",
   "metadata": {},
   "source": [
    "初始化网络和优化器"
   ]
  },
  {
   "cell_type": "code",
   "execution_count": 9,
   "metadata": {},
   "outputs": [],
   "source": [
    "network = Net()\n",
    "optimizer = optim.SGD(network.parameters(), lr=learning_rate,\n",
    "                      momentum=momentum)"
   ]
  },
  {
   "cell_type": "markdown",
   "metadata": {},
   "source": [
    "# 模型训练\n",
    "首先，我们需要使用optimizer.zero_grad()手动将梯度设置为零，因为PyTorch在默认情况下会累积梯度。然后，我们生成网络的输出(前向传递)，并计算输出与真值标签之间的负对数概率损失。现在，我们收集一组新的梯度，并使用optimizer.step()将其传播回每个网络参数。有关PyTorch自动渐变系统内部工作方式的详细信息，请参阅autograd的官方文档(强烈推荐)。\n",
    "\n",
    "我们还将使用一些打印输出来跟踪进度。为了在以后创建一个良好的培训曲线，我们还创建了两个列表来节省培训和测试损失。在x轴上，我们希望显示网络在培训期间看到的培训示例的数量。"
   ]
  },
  {
   "cell_type": "code",
   "execution_count": 11,
   "metadata": {},
   "outputs": [],
   "source": [
    "train_losses = []\n",
    "train_counter = []\n",
    "test_losses = []\n",
    "test_counter = [i*len(train_loader.dataset) for i in range(n_epochs + 1)]"
   ]
  },
  {
   "cell_type": "code",
   "execution_count": 12,
   "metadata": {
    "collapsed": true
   },
   "outputs": [
    {
     "name": "stderr",
     "output_type": "stream",
     "text": [
      "<ipython-input-8-f14b5dfe1d84>:20: UserWarning: Implicit dimension choice for log_softmax has been deprecated. Change the call to include dim=X as an argument.\n",
      "  return F.log_softmax(x)\n"
     ]
    },
    {
     "name": "stdout",
     "output_type": "stream",
     "text": [
      "Train Epoch: 1 [0/60000 (0%)]\tLoss: 2.360404\n",
      "Train Epoch: 1 [640/60000 (1%)]\tLoss: 2.293759\n",
      "Train Epoch: 1 [1280/60000 (2%)]\tLoss: 2.299630\n",
      "Train Epoch: 1 [1920/60000 (3%)]\tLoss: 2.292107\n",
      "Train Epoch: 1 [2560/60000 (4%)]\tLoss: 2.288941\n",
      "Train Epoch: 1 [3200/60000 (5%)]\tLoss: 2.232685\n",
      "Train Epoch: 1 [3840/60000 (6%)]\tLoss: 2.240712\n",
      "Train Epoch: 1 [4480/60000 (7%)]\tLoss: 2.219678\n",
      "Train Epoch: 1 [5120/60000 (9%)]\tLoss: 2.192156\n",
      "Train Epoch: 1 [5760/60000 (10%)]\tLoss: 2.116445\n",
      "Train Epoch: 1 [6400/60000 (11%)]\tLoss: 2.046255\n",
      "Train Epoch: 1 [7040/60000 (12%)]\tLoss: 1.886515\n",
      "Train Epoch: 1 [7680/60000 (13%)]\tLoss: 1.685285\n",
      "Train Epoch: 1 [8320/60000 (14%)]\tLoss: 1.817173\n",
      "Train Epoch: 1 [8960/60000 (15%)]\tLoss: 1.772288\n",
      "Train Epoch: 1 [9600/60000 (16%)]\tLoss: 1.439482\n",
      "Train Epoch: 1 [10240/60000 (17%)]\tLoss: 1.328133\n",
      "Train Epoch: 1 [10880/60000 (18%)]\tLoss: 1.202105\n",
      "Train Epoch: 1 [11520/60000 (19%)]\tLoss: 0.958041\n",
      "Train Epoch: 1 [12160/60000 (20%)]\tLoss: 1.101536\n",
      "Train Epoch: 1 [12800/60000 (21%)]\tLoss: 1.151638\n",
      "Train Epoch: 1 [13440/60000 (22%)]\tLoss: 1.105420\n",
      "Train Epoch: 1 [14080/60000 (23%)]\tLoss: 0.951288\n",
      "Train Epoch: 1 [14720/60000 (25%)]\tLoss: 0.890829\n",
      "Train Epoch: 1 [15360/60000 (26%)]\tLoss: 0.925507\n",
      "Train Epoch: 1 [16000/60000 (27%)]\tLoss: 1.084556\n",
      "Train Epoch: 1 [16640/60000 (28%)]\tLoss: 0.887249\n",
      "Train Epoch: 1 [17280/60000 (29%)]\tLoss: 0.794943\n",
      "Train Epoch: 1 [17920/60000 (30%)]\tLoss: 0.900621\n",
      "Train Epoch: 1 [18560/60000 (31%)]\tLoss: 1.007741\n",
      "Train Epoch: 1 [19200/60000 (32%)]\tLoss: 0.632662\n",
      "Train Epoch: 1 [19840/60000 (33%)]\tLoss: 0.934155\n",
      "Train Epoch: 1 [20480/60000 (34%)]\tLoss: 0.764777\n",
      "Train Epoch: 1 [21120/60000 (35%)]\tLoss: 0.767697\n",
      "Train Epoch: 1 [21760/60000 (36%)]\tLoss: 1.099929\n",
      "Train Epoch: 1 [22400/60000 (37%)]\tLoss: 0.811603\n",
      "Train Epoch: 1 [23040/60000 (38%)]\tLoss: 0.838193\n",
      "Train Epoch: 1 [23680/60000 (39%)]\tLoss: 0.658200\n",
      "Train Epoch: 1 [24320/60000 (41%)]\tLoss: 0.637205\n",
      "Train Epoch: 1 [24960/60000 (42%)]\tLoss: 0.873011\n",
      "Train Epoch: 1 [25600/60000 (43%)]\tLoss: 0.739858\n",
      "Train Epoch: 1 [26240/60000 (44%)]\tLoss: 0.545154\n",
      "Train Epoch: 1 [26880/60000 (45%)]\tLoss: 0.640460\n",
      "Train Epoch: 1 [27520/60000 (46%)]\tLoss: 0.573630\n",
      "Train Epoch: 1 [28160/60000 (47%)]\tLoss: 0.589947\n",
      "Train Epoch: 1 [28800/60000 (48%)]\tLoss: 0.531887\n",
      "Train Epoch: 1 [29440/60000 (49%)]\tLoss: 0.773076\n",
      "Train Epoch: 1 [30080/60000 (50%)]\tLoss: 0.676019\n",
      "Train Epoch: 1 [30720/60000 (51%)]\tLoss: 0.451001\n",
      "Train Epoch: 1 [31360/60000 (52%)]\tLoss: 0.592124\n",
      "Train Epoch: 1 [32000/60000 (53%)]\tLoss: 0.492388\n",
      "Train Epoch: 1 [32640/60000 (54%)]\tLoss: 0.567090\n",
      "Train Epoch: 1 [33280/60000 (55%)]\tLoss: 0.689340\n",
      "Train Epoch: 1 [33920/60000 (57%)]\tLoss: 0.558393\n",
      "Train Epoch: 1 [34560/60000 (58%)]\tLoss: 0.620616\n",
      "Train Epoch: 1 [35200/60000 (59%)]\tLoss: 0.783174\n",
      "Train Epoch: 1 [35840/60000 (60%)]\tLoss: 0.660288\n",
      "Train Epoch: 1 [36480/60000 (61%)]\tLoss: 0.607292\n",
      "Train Epoch: 1 [37120/60000 (62%)]\tLoss: 0.579870\n",
      "Train Epoch: 1 [37760/60000 (63%)]\tLoss: 0.642663\n",
      "Train Epoch: 1 [38400/60000 (64%)]\tLoss: 0.433517\n",
      "Train Epoch: 1 [39040/60000 (65%)]\tLoss: 0.912489\n",
      "Train Epoch: 1 [39680/60000 (66%)]\tLoss: 0.541535\n",
      "Train Epoch: 1 [40320/60000 (67%)]\tLoss: 0.626323\n",
      "Train Epoch: 1 [40960/60000 (68%)]\tLoss: 0.511180\n",
      "Train Epoch: 1 [41600/60000 (69%)]\tLoss: 0.537775\n",
      "Train Epoch: 1 [42240/60000 (70%)]\tLoss: 0.892286\n",
      "Train Epoch: 1 [42880/60000 (71%)]\tLoss: 0.395057\n",
      "Train Epoch: 1 [43520/60000 (72%)]\tLoss: 0.591259\n",
      "Train Epoch: 1 [44160/60000 (74%)]\tLoss: 0.485501\n",
      "Train Epoch: 1 [44800/60000 (75%)]\tLoss: 0.514730\n",
      "Train Epoch: 1 [45440/60000 (76%)]\tLoss: 0.814291\n",
      "Train Epoch: 1 [46080/60000 (77%)]\tLoss: 0.407790\n",
      "Train Epoch: 1 [46720/60000 (78%)]\tLoss: 0.544625\n",
      "Train Epoch: 1 [47360/60000 (79%)]\tLoss: 0.499155\n",
      "Train Epoch: 1 [48000/60000 (80%)]\tLoss: 0.466371\n",
      "Train Epoch: 1 [48640/60000 (81%)]\tLoss: 0.605620\n",
      "Train Epoch: 1 [49280/60000 (82%)]\tLoss: 0.498844\n",
      "Train Epoch: 1 [49920/60000 (83%)]\tLoss: 0.386184\n",
      "Train Epoch: 1 [50560/60000 (84%)]\tLoss: 0.317623\n",
      "Train Epoch: 1 [51200/60000 (85%)]\tLoss: 0.541993\n",
      "Train Epoch: 1 [51840/60000 (86%)]\tLoss: 0.478140\n",
      "Train Epoch: 1 [52480/60000 (87%)]\tLoss: 0.451470\n",
      "Train Epoch: 1 [53120/60000 (88%)]\tLoss: 0.530902\n",
      "Train Epoch: 1 [53760/60000 (90%)]\tLoss: 0.338919\n",
      "Train Epoch: 1 [54400/60000 (91%)]\tLoss: 0.421175\n",
      "Train Epoch: 1 [55040/60000 (92%)]\tLoss: 0.505715\n",
      "Train Epoch: 1 [55680/60000 (93%)]\tLoss: 0.321627\n",
      "Train Epoch: 1 [56320/60000 (94%)]\tLoss: 0.269382\n",
      "Train Epoch: 1 [56960/60000 (95%)]\tLoss: 0.485983\n",
      "Train Epoch: 1 [57600/60000 (96%)]\tLoss: 0.357266\n",
      "Train Epoch: 1 [58240/60000 (97%)]\tLoss: 0.671625\n",
      "Train Epoch: 1 [58880/60000 (98%)]\tLoss: 0.452443\n",
      "Train Epoch: 1 [59520/60000 (99%)]\tLoss: 0.348412\n"
     ]
    }
   ],
   "source": [
    "def train(epoch):\n",
    "  network.train()\n",
    "  for batch_idx, (data, target) in enumerate(train_loader):\n",
    "    optimizer.zero_grad()\n",
    "    output = network(data)\n",
    "    loss = F.nll_loss(output, target)\n",
    "    loss.backward()\n",
    "    optimizer.step()\n",
    "    if batch_idx % log_interval == 0:\n",
    "      print('Train Epoch: {} [{}/{} ({:.0f}%)]\\tLoss: {:.6f}'.format(\n",
    "        epoch, batch_idx * len(data), len(train_loader.dataset),\n",
    "        100. * batch_idx / len(train_loader), loss.item()))\n",
    "      train_losses.append(loss.item())\n",
    "      train_counter.append(\n",
    "        (batch_idx*64) + ((epoch-1)*len(train_loader.dataset)))\n",
    "      torch.save(network.state_dict(), './model.pth')\n",
    "      torch.save(optimizer.state_dict(), './optimizer.pth')\n",
    "          \n",
    "train(1)"
   ]
  },
  {
   "cell_type": "markdown",
   "metadata": {},
   "source": [
    "# 模型测试\n",
    "现在进入测试循环。在这里，我们总结了测试损失，并跟踪正确分类的数字来计算网络的精度。"
   ]
  },
  {
   "cell_type": "code",
   "execution_count": 14,
   "metadata": {},
   "outputs": [
    {
     "name": "stderr",
     "output_type": "stream",
     "text": [
      "<ipython-input-8-f14b5dfe1d84>:20: UserWarning: Implicit dimension choice for log_softmax has been deprecated. Change the call to include dim=X as an argument.\n",
      "  return F.log_softmax(x)\n",
      "D:\\App\\anaconda\\envs\\pytorch\\lib\\site-packages\\torch\\nn\\_reduction.py:44: UserWarning: size_average and reduce args will be deprecated, please use reduction='sum' instead.\n",
      "  warnings.warn(warning.format(ret))\n"
     ]
    },
    {
     "name": "stdout",
     "output_type": "stream",
     "text": [
      "\n",
      "Test set: Avg. loss: 0.1871, Accuracy: 9436/10000 (94%)\n",
      "\n"
     ]
    }
   ],
   "source": [
    "def test():\n",
    "  network.eval()\n",
    "  test_loss = 0\n",
    "  correct = 0\n",
    "  with torch.no_grad():\n",
    "    for data, target in test_loader:\n",
    "      output = network(data)\n",
    "      test_loss += F.nll_loss(output, target, size_average=False).item()\n",
    "      pred = output.data.max(1, keepdim=True)[1]\n",
    "      correct += pred.eq(target.data.view_as(pred)).sum()\n",
    "  test_loss /= len(test_loader.dataset)\n",
    "  test_losses.append(test_loss)\n",
    "  print('\\nTest set: Avg. loss: {:.4f}, Accuracy: {}/{} ({:.0f}%)\\n'.format(\n",
    "    test_loss, correct, len(test_loader.dataset),\n",
    "    100. * correct / len(test_loader.dataset)))\n",
    "    \n",
    "test()"
   ]
  },
  {
   "cell_type": "code",
   "execution_count": null,
   "metadata": {},
   "outputs": [],
   "source": [
    "test()\n",
    "for epoch in range(1, n_epochs + 1):\n",
    "  train(epoch)\n",
    "  test()\n",
    "import matplotlib.pyplot as plt\n",
    "fig = plt.figure()\n",
    "plt.plot(train_counter, train_losses, color='blue')\n",
    "plt.scatter(test_counter, test_losses, color='red')\n",
    "plt.legend(['Train Loss', 'Test Loss'], loc='upper right')\n",
    "plt.xlabel('number of training examples seen')\n",
    "plt.ylabel('negative log likelihood loss')\n",
    "plt.show()"
   ]
  }
 ],
 "metadata": {
  "kernelspec": {
   "display_name": "pytorch",
   "language": "python",
   "name": "pytorch"
  },
  "language_info": {
   "codemirror_mode": {
    "name": "ipython",
    "version": 3
   },
   "file_extension": ".py",
   "mimetype": "text/x-python",
   "name": "python",
   "nbconvert_exporter": "python",
   "pygments_lexer": "ipython3",
   "version": "3.8.5"
  }
 },
 "nbformat": 4,
 "nbformat_minor": 4
}
