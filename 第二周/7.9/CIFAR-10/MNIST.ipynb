{
 "cells": [
  {
   "cell_type": "markdown",
   "metadata": {},
   "source": [
    "# 设置环境"
   ]
  },
  {
   "cell_type": "code",
   "execution_count": 1,
   "metadata": {
    "ExecuteTime": {
     "end_time": "2021-07-08T13:43:37.309945Z",
     "start_time": "2021-07-08T13:43:36.093574Z"
    }
   },
   "outputs": [],
   "source": [
    "import torch\n",
    "import torchvision\n",
    "from torch.utils.data import DataLoader"
   ]
  },
  {
   "cell_type": "markdown",
   "metadata": {},
   "source": [
    "# 准备数据集\n",
    "导入就绪后，我们可以继续准备将要使用的数据。但在那之前，我们将定义超参数，我们将使用的实验。在这里，epoch的数量定义了我们将循环整个训练数据集的次数，而learning_rate和momentum是我们稍后将使用的优化器的超参数。"
   ]
  },
  {
   "cell_type": "code",
   "execution_count": 2,
   "metadata": {
    "ExecuteTime": {
     "end_time": "2021-07-08T13:43:38.695641Z",
     "start_time": "2021-07-08T13:43:38.674312Z"
    }
   },
   "outputs": [
    {
     "data": {
      "text/plain": [
       "<torch._C.Generator at 0x7fab8c1a7e10>"
      ]
     },
     "execution_count": 2,
     "metadata": {},
     "output_type": "execute_result"
    }
   ],
   "source": [
    "n_epochs = 3\n",
    "batch_size_train = 64\n",
    "batch_size_test = 1000\n",
    "learning_rate = 0.01\n",
    "momentum = 0.5\n",
    "log_interval = 10\n",
    "random_seed = 1\n",
    "torch.manual_seed(random_seed)"
   ]
  },
  {
   "cell_type": "code",
   "execution_count": 3,
   "metadata": {
    "ExecuteTime": {
     "end_time": "2021-07-08T13:43:41.752143Z",
     "start_time": "2021-07-08T13:43:41.698358Z"
    }
   },
   "outputs": [],
   "source": [
    "train_loader = torch.utils.data.DataLoader(\n",
    "  torchvision.datasets.MNIST('./data/', train=True, download=True,\n",
    "                             transform=torchvision.transforms.Compose([\n",
    "                               torchvision.transforms.ToTensor(),\n",
    "                               torchvision.transforms.Normalize(\n",
    "                                 (0.1307,), (0.3081,))\n",
    "                             ])),\n",
    "  batch_size=batch_size_train, shuffle=True)\n",
    "test_loader = torch.utils.data.DataLoader(\n",
    "  torchvision.datasets.MNIST('./data/', train=False, download=True,\n",
    "                             transform=torchvision.transforms.Compose([\n",
    "                               torchvision.transforms.ToTensor(),\n",
    "                               torchvision.transforms.Normalize(\n",
    "                                 (0.1307,), (0.3081,))\n",
    "                             ])),\n",
    "  batch_size=batch_size_test, shuffle=True)"
   ]
  },
  {
   "cell_type": "code",
   "execution_count": 4,
   "metadata": {
    "ExecuteTime": {
     "end_time": "2021-07-08T13:43:44.253429Z",
     "start_time": "2021-07-08T13:43:44.018871Z"
    }
   },
   "outputs": [
    {
     "name": "stdout",
     "output_type": "stream",
     "text": [
      "tensor([7, 6, 7, 5, 6, 7, 8, 1, 1, 2, 4, 1, 0, 8, 4, 4, 4, 9, 8, 1, 3, 3, 8, 6,\n",
      "        2, 7, 5, 1, 6, 5, 6, 2, 9, 2, 8, 4, 9, 4, 8, 6, 7, 7, 9, 8, 4, 9, 5, 3,\n",
      "        1, 0, 9, 1, 7, 3, 7, 0, 9, 2, 5, 1, 8, 9, 3, 7, 8, 4, 1, 9, 0, 3, 1, 2,\n",
      "        3, 6, 2, 9, 9, 0, 3, 8, 3, 0, 8, 8, 5, 3, 8, 2, 8, 5, 5, 7, 1, 5, 5, 1,\n",
      "        0, 9, 7, 5, 2, 0, 7, 6, 1, 2, 2, 7, 5, 4, 7, 3, 0, 6, 7, 5, 1, 7, 6, 7,\n",
      "        2, 1, 9, 1, 9, 2, 7, 6, 8, 8, 8, 4, 6, 0, 0, 2, 3, 0, 1, 7, 8, 7, 4, 1,\n",
      "        3, 8, 3, 5, 5, 9, 6, 0, 5, 3, 3, 9, 4, 0, 1, 9, 9, 1, 5, 6, 2, 0, 4, 7,\n",
      "        3, 5, 8, 8, 2, 5, 9, 5, 0, 7, 8, 9, 3, 8, 5, 3, 2, 4, 4, 6, 3, 0, 8, 2,\n",
      "        7, 0, 5, 2, 0, 6, 2, 6, 3, 6, 6, 7, 9, 3, 4, 1, 6, 2, 8, 4, 7, 7, 2, 7,\n",
      "        4, 2, 4, 9, 7, 7, 5, 9, 1, 3, 0, 4, 4, 8, 9, 6, 6, 5, 3, 3, 2, 3, 9, 1,\n",
      "        1, 4, 4, 8, 1, 5, 1, 8, 8, 0, 7, 5, 8, 4, 0, 0, 0, 6, 3, 0, 9, 0, 6, 6,\n",
      "        9, 8, 1, 2, 3, 7, 6, 1, 5, 9, 3, 9, 3, 2, 5, 9, 9, 5, 4, 9, 3, 9, 6, 0,\n",
      "        3, 3, 8, 3, 1, 4, 1, 4, 7, 3, 1, 6, 8, 4, 7, 7, 3, 3, 6, 1, 3, 2, 3, 5,\n",
      "        9, 9, 9, 2, 9, 0, 2, 7, 0, 7, 5, 0, 2, 6, 7, 3, 7, 1, 4, 6, 4, 0, 0, 3,\n",
      "        2, 1, 9, 3, 5, 5, 1, 6, 4, 7, 4, 6, 4, 4, 9, 7, 4, 1, 5, 4, 8, 7, 5, 9,\n",
      "        2, 9, 4, 0, 8, 7, 3, 4, 2, 7, 9, 4, 4, 0, 1, 4, 1, 2, 5, 2, 8, 5, 3, 9,\n",
      "        1, 3, 5, 1, 9, 5, 3, 6, 8, 1, 7, 9, 9, 9, 9, 9, 2, 3, 5, 1, 4, 2, 3, 1,\n",
      "        1, 3, 8, 2, 8, 1, 9, 2, 9, 0, 7, 3, 5, 8, 3, 7, 8, 5, 6, 4, 1, 9, 7, 1,\n",
      "        7, 1, 1, 8, 6, 7, 5, 6, 7, 4, 9, 5, 8, 6, 5, 6, 8, 4, 1, 0, 9, 1, 4, 3,\n",
      "        5, 1, 8, 7, 5, 4, 6, 6, 0, 2, 4, 2, 9, 5, 9, 8, 1, 4, 8, 1, 1, 6, 7, 5,\n",
      "        9, 1, 1, 7, 8, 7, 5, 5, 2, 6, 5, 8, 1, 0, 7, 2, 2, 4, 3, 9, 7, 3, 5, 7,\n",
      "        6, 9, 5, 9, 6, 5, 7, 2, 3, 7, 2, 9, 7, 4, 8, 4, 9, 3, 8, 7, 5, 0, 0, 3,\n",
      "        4, 3, 3, 6, 0, 1, 7, 7, 4, 6, 3, 0, 8, 0, 9, 8, 2, 4, 2, 9, 4, 9, 9, 9,\n",
      "        7, 7, 6, 8, 2, 4, 9, 3, 0, 4, 4, 1, 5, 7, 7, 6, 9, 7, 0, 2, 4, 2, 1, 4,\n",
      "        7, 4, 5, 1, 4, 7, 3, 1, 7, 6, 9, 0, 0, 7, 3, 6, 3, 3, 6, 5, 8, 1, 7, 1,\n",
      "        6, 1, 2, 3, 1, 6, 8, 8, 7, 4, 3, 7, 7, 1, 8, 9, 2, 6, 6, 6, 2, 8, 8, 1,\n",
      "        6, 0, 3, 0, 5, 1, 3, 2, 4, 1, 5, 5, 7, 3, 5, 6, 2, 1, 8, 0, 2, 0, 8, 4,\n",
      "        4, 5, 0, 0, 1, 5, 0, 7, 4, 0, 9, 2, 5, 7, 4, 0, 3, 7, 0, 3, 5, 1, 0, 6,\n",
      "        4, 7, 6, 4, 7, 0, 0, 5, 8, 2, 0, 6, 2, 4, 2, 3, 2, 7, 7, 6, 9, 8, 5, 9,\n",
      "        7, 1, 3, 4, 3, 1, 8, 0, 3, 0, 7, 4, 9, 0, 8, 1, 5, 7, 3, 2, 2, 0, 7, 3,\n",
      "        1, 8, 8, 2, 2, 6, 2, 7, 6, 6, 9, 4, 9, 3, 7, 0, 4, 6, 1, 9, 7, 4, 4, 5,\n",
      "        8, 2, 3, 2, 4, 9, 1, 9, 6, 7, 1, 2, 1, 1, 2, 6, 9, 7, 1, 0, 1, 4, 2, 7,\n",
      "        7, 8, 3, 2, 8, 2, 7, 6, 1, 1, 9, 1, 0, 9, 1, 3, 9, 3, 7, 6, 5, 6, 2, 0,\n",
      "        0, 3, 9, 4, 7, 3, 2, 9, 0, 9, 5, 2, 2, 4, 1, 6, 3, 4, 0, 1, 6, 9, 1, 7,\n",
      "        0, 8, 0, 0, 9, 8, 5, 9, 4, 4, 7, 1, 9, 0, 0, 2, 4, 3, 5, 0, 4, 0, 1, 0,\n",
      "        5, 8, 1, 8, 3, 3, 2, 1, 2, 6, 8, 2, 5, 3, 7, 9, 3, 6, 2, 2, 6, 2, 7, 7,\n",
      "        6, 1, 8, 0, 3, 5, 7, 5, 0, 8, 6, 7, 2, 4, 1, 4, 3, 7, 7, 2, 9, 3, 5, 5,\n",
      "        9, 4, 8, 7, 6, 7, 4, 9, 2, 7, 7, 1, 0, 7, 2, 8, 0, 3, 5, 4, 5, 1, 5, 7,\n",
      "        6, 7, 3, 5, 3, 4, 5, 3, 4, 3, 2, 3, 1, 7, 4, 4, 8, 5, 5, 3, 2, 2, 9, 5,\n",
      "        8, 2, 0, 6, 0, 7, 9, 9, 6, 1, 6, 6, 2, 3, 7, 4, 7, 5, 2, 9, 4, 2, 9, 0,\n",
      "        8, 1, 7, 5, 5, 7, 0, 5, 2, 9, 5, 2, 3, 4, 6, 0, 0, 2, 9, 2, 0, 5, 4, 8,\n",
      "        9, 0, 9, 1, 3, 4, 1, 8, 0, 0, 4, 0, 8, 5, 9, 8])\n",
      "torch.Size([1000, 1, 28, 28])\n"
     ]
    }
   ],
   "source": [
    "examples = enumerate(test_loader)\n",
    "batch_idx, (example_data, example_targets) = next(examples)\n",
    "print(example_targets)\n",
    "print(example_data.shape)"
   ]
  },
  {
   "cell_type": "code",
   "execution_count": 5,
   "metadata": {
    "ExecuteTime": {
     "end_time": "2021-07-08T13:43:47.657548Z",
     "start_time": "2021-07-08T13:43:47.082476Z"
    }
   },
   "outputs": [
    {
     "data": {
      "text/plain": [
       "<Figure size 640x480 with 6 Axes>"
      ]
     },
     "metadata": {},
     "output_type": "display_data"
    }
   ],
   "source": [
    "import matplotlib.pyplot as plt\n",
    "fig = plt.figure()\n",
    "for i in range(6):\n",
    "  plt.subplot(2,3,i+1)\n",
    "  plt.tight_layout()\n",
    "  plt.imshow(example_data[i][0], cmap='gray', interpolation='none')\n",
    "  plt.title(\"Ground Truth: {}\".format(example_targets[i]))\n",
    "  plt.xticks([])\n",
    "  plt.yticks([])\n",
    "plt.show()"
   ]
  },
  {
   "cell_type": "markdown",
   "metadata": {},
   "source": [
    "# 构建网络\n",
    "现在让我们开始建立我们的网络。我们将使用两个2d卷积层，然后是两个全连接(或线性)层。作为激活函数，我们将选择整流线性单元(简称ReLUs)，作为正则化的手段，我们将使用两个dropout层。在PyTorch中，构建网络的一个好方法是为我们希望构建的网络创建一个新类。让我们在这里导入一些子模块，以获得更具可读性的代码。"
   ]
  },
  {
   "cell_type": "code",
   "execution_count": 6,
   "metadata": {
    "ExecuteTime": {
     "end_time": "2021-07-08T13:43:54.638527Z",
     "start_time": "2021-07-08T13:43:54.618714Z"
    }
   },
   "outputs": [],
   "source": [
    "import torch.nn as nn\n",
    "import torch.nn.functional as F\n",
    "import torch.optim as optim\n",
    "\n",
    "class Net(nn.Module):\n",
    "    def __init__(self):\n",
    "        super(Net, self).__init__()\n",
    "        self.conv1 = nn.Conv2d(1, 10, kernel_size=5)\n",
    "        self.conv2 = nn.Conv2d(10, 20, kernel_size=5)\n",
    "        self.conv2_drop = nn.Dropout2d()\n",
    "        self.fc1 = nn.Linear(320, 50)\n",
    "        self.fc2 = nn.Linear(50, 10)\n",
    "    def forward(self, x):\n",
    "        x = F.relu(F.max_pool2d(self.conv1(x), 2))\n",
    "        x = F.relu(F.max_pool2d(self.conv2_drop(self.conv2(x)), 2))\n",
    "        x = x.view(-1, 320)\n",
    "        x = F.relu(self.fc1(x))\n",
    "        x = F.dropout(x, training=self.training)\n",
    "        x = self.fc2(x)\n",
    "        return F.log_softmax(x)"
   ]
  },
  {
   "cell_type": "markdown",
   "metadata": {},
   "source": [
    "初始化网络和优化器"
   ]
  },
  {
   "cell_type": "code",
   "execution_count": 7,
   "metadata": {
    "ExecuteTime": {
     "end_time": "2021-07-08T13:43:56.906660Z",
     "start_time": "2021-07-08T13:43:56.898496Z"
    }
   },
   "outputs": [],
   "source": [
    "network = Net()\n",
    "optimizer = optim.SGD(network.parameters(), lr=learning_rate,\n",
    "                      momentum=momentum)"
   ]
  },
  {
   "cell_type": "markdown",
   "metadata": {},
   "source": [
    "# 模型训练\n",
    "首先，我们需要使用optimizer.zero_grad()手动将梯度设置为零，因为PyTorch在默认情况下会累积梯度。然后，我们生成网络的输出(前向传递)，并计算输出与真值标签之间的负对数概率损失。现在，我们收集一组新的梯度，并使用optimizer.step()将其传播回每个网络参数。有关PyTorch自动渐变系统内部工作方式的详细信息，请参阅autograd的官方文档(强烈推荐)。\n",
    "\n",
    "我们还将使用一些打印输出来跟踪进度。为了在以后创建一个良好的培训曲线，我们还创建了两个列表来节省培训和测试损失。在x轴上，我们希望显示网络在培训期间看到的培训示例的数量。"
   ]
  },
  {
   "cell_type": "code",
   "execution_count": 8,
   "metadata": {
    "ExecuteTime": {
     "end_time": "2021-07-08T13:43:58.943074Z",
     "start_time": "2021-07-08T13:43:58.938245Z"
    }
   },
   "outputs": [],
   "source": [
    "train_losses = []\n",
    "train_counter = []\n",
    "test_losses = []\n",
    "test_counter = [i*len(train_loader.dataset) for i in range(n_epochs + 1)]"
   ]
  },
  {
   "cell_type": "code",
   "execution_count": 9,
   "metadata": {
    "ExecuteTime": {
     "end_time": "2021-07-08T13:44:07.099801Z",
     "start_time": "2021-07-08T13:44:07.083563Z"
    }
   },
   "outputs": [],
   "source": [
    "def train(epoch):\n",
    "  network.train()\n",
    "  for batch_idx, (data, target) in enumerate(train_loader):\n",
    "    optimizer.zero_grad()\n",
    "    output = network(data)\n",
    "    loss = F.nll_loss(output, target)\n",
    "    loss.backward()\n",
    "    optimizer.step()\n",
    "    if batch_idx % log_interval == 0:\n",
    "      print('Train Epoch: {} [{}/{} ({:.0f}%)]\\tLoss: {:.6f}'.format(\n",
    "        epoch, batch_idx * len(data), len(train_loader.dataset),\n",
    "        100. * batch_idx / len(train_loader), loss.item()))\n",
    "      train_losses.append(loss.item())\n",
    "      train_counter.append(\n",
    "        (batch_idx*64) + ((epoch-1)*len(train_loader.dataset)))\n",
    "      torch.save(network.state_dict(), './model.pth')\n",
    "      torch.save(optimizer.state_dict(), './optimizer.pth')\n",
    "          \n",
    "# train(1)"
   ]
  },
  {
   "cell_type": "markdown",
   "metadata": {},
   "source": [
    "# 模型测试\n",
    "现在进入测试循环。在这里，我们总结了测试损失，并跟踪正确分类的数字来计算网络的精度。"
   ]
  },
  {
   "cell_type": "code",
   "execution_count": 10,
   "metadata": {
    "ExecuteTime": {
     "end_time": "2021-07-08T13:44:16.245221Z",
     "start_time": "2021-07-08T13:44:14.235992Z"
    }
   },
   "outputs": [
    {
     "name": "stderr",
     "output_type": "stream",
     "text": [
      "/home/pjw/anaconda3/envs/pjw/lib/python3.7/site-packages/ipykernel_launcher.py:20: UserWarning: Implicit dimension choice for log_softmax has been deprecated. Change the call to include dim=X as an argument.\n",
      "/home/pjw/anaconda3/envs/pjw/lib/python3.7/site-packages/torch/nn/_reduction.py:44: UserWarning: size_average and reduce args will be deprecated, please use reduction='sum' instead.\n",
      "  warnings.warn(warning.format(ret))\n"
     ]
    },
    {
     "name": "stdout",
     "output_type": "stream",
     "text": [
      "\n",
      "Test set: Avg. loss: 2.3004, Accuracy: 751/10000 (8%)\n",
      "\n"
     ]
    }
   ],
   "source": [
    "def test():\n",
    "  network.eval()\n",
    "  test_loss = 0\n",
    "  correct = 0\n",
    "  with torch.no_grad():\n",
    "    for data, target in test_loader:\n",
    "      output = network(data)\n",
    "      test_loss += F.nll_loss(output, target, size_average=False).item()\n",
    "      pred = output.data.max(1, keepdim=True)[1]\n",
    "      correct += pred.eq(target.data.view_as(pred)).sum()\n",
    "  test_loss /= len(test_loader.dataset)\n",
    "  test_losses.append(test_loss)\n",
    "  print('\\nTest set: Avg. loss: {:.4f}, Accuracy: {}/{} ({:.0f}%)\\n'.format(\n",
    "    test_loss, correct, len(test_loader.dataset),\n",
    "    100. * correct / len(test_loader.dataset)))\n",
    "    \n",
    "test()"
   ]
  },
  {
   "cell_type": "markdown",
   "metadata": {},
   "source": [
    "# 评估模型的性能"
   ]
  },
  {
   "cell_type": "code",
   "execution_count": 11,
   "metadata": {
    "ExecuteTime": {
     "end_time": "2021-07-08T13:45:14.683417Z",
     "start_time": "2021-07-08T13:44:18.147935Z"
    }
   },
   "outputs": [
    {
     "name": "stderr",
     "output_type": "stream",
     "text": [
      "/home/pjw/anaconda3/envs/pjw/lib/python3.7/site-packages/ipykernel_launcher.py:20: UserWarning: Implicit dimension choice for log_softmax has been deprecated. Change the call to include dim=X as an argument.\n"
     ]
    },
    {
     "name": "stdout",
     "output_type": "stream",
     "text": [
      "Train Epoch: 1 [0/60000 (0%)]\tLoss: 2.268458\n",
      "Train Epoch: 1 [640/60000 (1%)]\tLoss: 2.268337\n",
      "Train Epoch: 1 [1280/60000 (2%)]\tLoss: 2.274000\n",
      "Train Epoch: 1 [1920/60000 (3%)]\tLoss: 2.251669\n",
      "Train Epoch: 1 [2560/60000 (4%)]\tLoss: 2.236826\n",
      "Train Epoch: 1 [3200/60000 (5%)]\tLoss: 2.223578\n",
      "Train Epoch: 1 [3840/60000 (6%)]\tLoss: 2.153432\n",
      "Train Epoch: 1 [4480/60000 (7%)]\tLoss: 2.096480\n",
      "Train Epoch: 1 [5120/60000 (9%)]\tLoss: 1.974481\n",
      "Train Epoch: 1 [5760/60000 (10%)]\tLoss: 1.944860\n",
      "Train Epoch: 1 [6400/60000 (11%)]\tLoss: 1.839772\n",
      "Train Epoch: 1 [7040/60000 (12%)]\tLoss: 1.769052\n",
      "Train Epoch: 1 [7680/60000 (13%)]\tLoss: 1.694407\n",
      "Train Epoch: 1 [8320/60000 (14%)]\tLoss: 1.688283\n",
      "Train Epoch: 1 [8960/60000 (15%)]\tLoss: 1.509173\n",
      "Train Epoch: 1 [9600/60000 (16%)]\tLoss: 1.389769\n",
      "Train Epoch: 1 [10240/60000 (17%)]\tLoss: 1.286089\n",
      "Train Epoch: 1 [10880/60000 (18%)]\tLoss: 1.329786\n",
      "Train Epoch: 1 [11520/60000 (19%)]\tLoss: 1.278228\n",
      "Train Epoch: 1 [12160/60000 (20%)]\tLoss: 1.244968\n",
      "Train Epoch: 1 [12800/60000 (21%)]\tLoss: 0.923985\n",
      "Train Epoch: 1 [13440/60000 (22%)]\tLoss: 1.392536\n",
      "Train Epoch: 1 [14080/60000 (23%)]\tLoss: 0.966678\n",
      "Train Epoch: 1 [14720/60000 (25%)]\tLoss: 1.103359\n",
      "Train Epoch: 1 [15360/60000 (26%)]\tLoss: 0.951777\n",
      "Train Epoch: 1 [16000/60000 (27%)]\tLoss: 1.046235\n",
      "Train Epoch: 1 [16640/60000 (28%)]\tLoss: 0.947795\n",
      "Train Epoch: 1 [17280/60000 (29%)]\tLoss: 0.827003\n",
      "Train Epoch: 1 [17920/60000 (30%)]\tLoss: 1.120903\n",
      "Train Epoch: 1 [18560/60000 (31%)]\tLoss: 0.650069\n",
      "Train Epoch: 1 [19200/60000 (32%)]\tLoss: 0.935345\n",
      "Train Epoch: 1 [19840/60000 (33%)]\tLoss: 0.786626\n",
      "Train Epoch: 1 [20480/60000 (34%)]\tLoss: 0.801335\n",
      "Train Epoch: 1 [21120/60000 (35%)]\tLoss: 0.756471\n",
      "Train Epoch: 1 [21760/60000 (36%)]\tLoss: 0.951252\n",
      "Train Epoch: 1 [22400/60000 (37%)]\tLoss: 0.627106\n",
      "Train Epoch: 1 [23040/60000 (38%)]\tLoss: 0.866992\n",
      "Train Epoch: 1 [23680/60000 (39%)]\tLoss: 0.643705\n",
      "Train Epoch: 1 [24320/60000 (41%)]\tLoss: 0.821156\n",
      "Train Epoch: 1 [24960/60000 (42%)]\tLoss: 0.836572\n",
      "Train Epoch: 1 [25600/60000 (43%)]\tLoss: 0.773806\n",
      "Train Epoch: 1 [26240/60000 (44%)]\tLoss: 0.722342\n",
      "Train Epoch: 1 [26880/60000 (45%)]\tLoss: 0.759418\n",
      "Train Epoch: 1 [27520/60000 (46%)]\tLoss: 0.723324\n",
      "Train Epoch: 1 [28160/60000 (47%)]\tLoss: 0.788159\n",
      "Train Epoch: 1 [28800/60000 (48%)]\tLoss: 0.716708\n",
      "Train Epoch: 1 [29440/60000 (49%)]\tLoss: 0.652703\n",
      "Train Epoch: 1 [30080/60000 (50%)]\tLoss: 1.038658\n",
      "Train Epoch: 1 [30720/60000 (51%)]\tLoss: 0.653703\n",
      "Train Epoch: 1 [31360/60000 (52%)]\tLoss: 0.892462\n",
      "Train Epoch: 1 [32000/60000 (53%)]\tLoss: 0.710462\n",
      "Train Epoch: 1 [32640/60000 (54%)]\tLoss: 0.696562\n",
      "Train Epoch: 1 [33280/60000 (55%)]\tLoss: 0.566588\n",
      "Train Epoch: 1 [33920/60000 (57%)]\tLoss: 0.453956\n",
      "Train Epoch: 1 [34560/60000 (58%)]\tLoss: 0.760079\n",
      "Train Epoch: 1 [35200/60000 (59%)]\tLoss: 0.476046\n",
      "Train Epoch: 1 [35840/60000 (60%)]\tLoss: 0.753830\n",
      "Train Epoch: 1 [36480/60000 (61%)]\tLoss: 0.332981\n",
      "Train Epoch: 1 [37120/60000 (62%)]\tLoss: 0.390437\n",
      "Train Epoch: 1 [37760/60000 (63%)]\tLoss: 0.575489\n",
      "Train Epoch: 1 [38400/60000 (64%)]\tLoss: 0.735472\n",
      "Train Epoch: 1 [39040/60000 (65%)]\tLoss: 0.433280\n",
      "Train Epoch: 1 [39680/60000 (66%)]\tLoss: 0.488981\n",
      "Train Epoch: 1 [40320/60000 (67%)]\tLoss: 0.577236\n",
      "Train Epoch: 1 [40960/60000 (68%)]\tLoss: 0.465936\n",
      "Train Epoch: 1 [41600/60000 (69%)]\tLoss: 0.405037\n",
      "Train Epoch: 1 [42240/60000 (70%)]\tLoss: 0.609347\n",
      "Train Epoch: 1 [42880/60000 (71%)]\tLoss: 0.582357\n",
      "Train Epoch: 1 [43520/60000 (72%)]\tLoss: 0.583952\n",
      "Train Epoch: 1 [44160/60000 (74%)]\tLoss: 0.484502\n",
      "Train Epoch: 1 [44800/60000 (75%)]\tLoss: 0.614816\n",
      "Train Epoch: 1 [45440/60000 (76%)]\tLoss: 0.685104\n",
      "Train Epoch: 1 [46080/60000 (77%)]\tLoss: 0.569518\n",
      "Train Epoch: 1 [46720/60000 (78%)]\tLoss: 0.865221\n",
      "Train Epoch: 1 [47360/60000 (79%)]\tLoss: 0.388636\n",
      "Train Epoch: 1 [48000/60000 (80%)]\tLoss: 0.463371\n",
      "Train Epoch: 1 [48640/60000 (81%)]\tLoss: 0.347264\n",
      "Train Epoch: 1 [49280/60000 (82%)]\tLoss: 0.574759\n",
      "Train Epoch: 1 [49920/60000 (83%)]\tLoss: 0.375888\n",
      "Train Epoch: 1 [50560/60000 (84%)]\tLoss: 0.386643\n",
      "Train Epoch: 1 [51200/60000 (85%)]\tLoss: 0.789892\n",
      "Train Epoch: 1 [51840/60000 (86%)]\tLoss: 0.472481\n",
      "Train Epoch: 1 [52480/60000 (87%)]\tLoss: 0.648673\n",
      "Train Epoch: 1 [53120/60000 (88%)]\tLoss: 0.758502\n",
      "Train Epoch: 1 [53760/60000 (90%)]\tLoss: 0.568723\n",
      "Train Epoch: 1 [54400/60000 (91%)]\tLoss: 0.446305\n",
      "Train Epoch: 1 [55040/60000 (92%)]\tLoss: 0.707119\n",
      "Train Epoch: 1 [55680/60000 (93%)]\tLoss: 0.483168\n",
      "Train Epoch: 1 [56320/60000 (94%)]\tLoss: 0.539424\n",
      "Train Epoch: 1 [56960/60000 (95%)]\tLoss: 0.570717\n",
      "Train Epoch: 1 [57600/60000 (96%)]\tLoss: 0.341169\n",
      "Train Epoch: 1 [58240/60000 (97%)]\tLoss: 0.472903\n",
      "Train Epoch: 1 [58880/60000 (98%)]\tLoss: 0.336121\n",
      "Train Epoch: 1 [59520/60000 (99%)]\tLoss: 0.495706\n"
     ]
    },
    {
     "name": "stderr",
     "output_type": "stream",
     "text": [
      "/home/pjw/anaconda3/envs/pjw/lib/python3.7/site-packages/torch/nn/_reduction.py:44: UserWarning: size_average and reduce args will be deprecated, please use reduction='sum' instead.\n",
      "  warnings.warn(warning.format(ret))\n"
     ]
    },
    {
     "name": "stdout",
     "output_type": "stream",
     "text": [
      "\n",
      "Test set: Avg. loss: 0.1975, Accuracy: 9432/10000 (94%)\n",
      "\n",
      "Train Epoch: 2 [0/60000 (0%)]\tLoss: 0.546566\n",
      "Train Epoch: 2 [640/60000 (1%)]\tLoss: 0.305779\n",
      "Train Epoch: 2 [1280/60000 (2%)]\tLoss: 0.385171\n",
      "Train Epoch: 2 [1920/60000 (3%)]\tLoss: 0.295484\n",
      "Train Epoch: 2 [2560/60000 (4%)]\tLoss: 0.474659\n",
      "Train Epoch: 2 [3200/60000 (5%)]\tLoss: 0.677941\n",
      "Train Epoch: 2 [3840/60000 (6%)]\tLoss: 0.539200\n",
      "Train Epoch: 2 [4480/60000 (7%)]\tLoss: 0.451135\n",
      "Train Epoch: 2 [5120/60000 (9%)]\tLoss: 0.404221\n",
      "Train Epoch: 2 [5760/60000 (10%)]\tLoss: 0.486087\n",
      "Train Epoch: 2 [6400/60000 (11%)]\tLoss: 0.515891\n",
      "Train Epoch: 2 [7040/60000 (12%)]\tLoss: 0.405879\n",
      "Train Epoch: 2 [7680/60000 (13%)]\tLoss: 0.304106\n",
      "Train Epoch: 2 [8320/60000 (14%)]\tLoss: 0.360732\n",
      "Train Epoch: 2 [8960/60000 (15%)]\tLoss: 0.394584\n",
      "Train Epoch: 2 [9600/60000 (16%)]\tLoss: 0.410758\n",
      "Train Epoch: 2 [10240/60000 (17%)]\tLoss: 0.396205\n",
      "Train Epoch: 2 [10880/60000 (18%)]\tLoss: 0.591816\n",
      "Train Epoch: 2 [11520/60000 (19%)]\tLoss: 0.559890\n",
      "Train Epoch: 2 [12160/60000 (20%)]\tLoss: 0.497504\n",
      "Train Epoch: 2 [12800/60000 (21%)]\tLoss: 0.383588\n",
      "Train Epoch: 2 [13440/60000 (22%)]\tLoss: 0.490935\n",
      "Train Epoch: 2 [14080/60000 (23%)]\tLoss: 0.379691\n",
      "Train Epoch: 2 [14720/60000 (25%)]\tLoss: 0.326921\n",
      "Train Epoch: 2 [15360/60000 (26%)]\tLoss: 0.579018\n",
      "Train Epoch: 2 [16000/60000 (27%)]\tLoss: 0.385608\n",
      "Train Epoch: 2 [16640/60000 (28%)]\tLoss: 0.529607\n",
      "Train Epoch: 2 [17280/60000 (29%)]\tLoss: 0.391914\n",
      "Train Epoch: 2 [17920/60000 (30%)]\tLoss: 0.349425\n",
      "Train Epoch: 2 [18560/60000 (31%)]\tLoss: 0.373316\n",
      "Train Epoch: 2 [19200/60000 (32%)]\tLoss: 0.487064\n",
      "Train Epoch: 2 [19840/60000 (33%)]\tLoss: 0.337262\n",
      "Train Epoch: 2 [20480/60000 (34%)]\tLoss: 0.402250\n",
      "Train Epoch: 2 [21120/60000 (35%)]\tLoss: 0.696017\n",
      "Train Epoch: 2 [21760/60000 (36%)]\tLoss: 0.406098\n",
      "Train Epoch: 2 [22400/60000 (37%)]\tLoss: 0.411692\n",
      "Train Epoch: 2 [23040/60000 (38%)]\tLoss: 0.477245\n",
      "Train Epoch: 2 [23680/60000 (39%)]\tLoss: 0.427127\n",
      "Train Epoch: 2 [24320/60000 (41%)]\tLoss: 0.325420\n",
      "Train Epoch: 2 [24960/60000 (42%)]\tLoss: 0.342890\n",
      "Train Epoch: 2 [25600/60000 (43%)]\tLoss: 0.465377\n",
      "Train Epoch: 2 [26240/60000 (44%)]\tLoss: 0.325295\n",
      "Train Epoch: 2 [26880/60000 (45%)]\tLoss: 0.417299\n",
      "Train Epoch: 2 [27520/60000 (46%)]\tLoss: 0.378026\n",
      "Train Epoch: 2 [28160/60000 (47%)]\tLoss: 0.314677\n",
      "Train Epoch: 2 [28800/60000 (48%)]\tLoss: 0.467983\n",
      "Train Epoch: 2 [29440/60000 (49%)]\tLoss: 0.438331\n",
      "Train Epoch: 2 [30080/60000 (50%)]\tLoss: 0.647005\n",
      "Train Epoch: 2 [30720/60000 (51%)]\tLoss: 0.348891\n",
      "Train Epoch: 2 [31360/60000 (52%)]\tLoss: 0.404624\n",
      "Train Epoch: 2 [32000/60000 (53%)]\tLoss: 0.444402\n",
      "Train Epoch: 2 [32640/60000 (54%)]\tLoss: 0.343377\n",
      "Train Epoch: 2 [33280/60000 (55%)]\tLoss: 0.276442\n",
      "Train Epoch: 2 [33920/60000 (57%)]\tLoss: 0.357895\n",
      "Train Epoch: 2 [34560/60000 (58%)]\tLoss: 0.413345\n",
      "Train Epoch: 2 [35200/60000 (59%)]\tLoss: 0.653509\n",
      "Train Epoch: 2 [35840/60000 (60%)]\tLoss: 0.251852\n",
      "Train Epoch: 2 [36480/60000 (61%)]\tLoss: 0.511062\n",
      "Train Epoch: 2 [37120/60000 (62%)]\tLoss: 0.395433\n",
      "Train Epoch: 2 [37760/60000 (63%)]\tLoss: 0.348385\n",
      "Train Epoch: 2 [38400/60000 (64%)]\tLoss: 0.211587\n",
      "Train Epoch: 2 [39040/60000 (65%)]\tLoss: 0.297764\n",
      "Train Epoch: 2 [39680/60000 (66%)]\tLoss: 0.364472\n",
      "Train Epoch: 2 [40320/60000 (67%)]\tLoss: 0.375672\n",
      "Train Epoch: 2 [40960/60000 (68%)]\tLoss: 0.333336\n",
      "Train Epoch: 2 [41600/60000 (69%)]\tLoss: 0.337340\n",
      "Train Epoch: 2 [42240/60000 (70%)]\tLoss: 0.171596\n",
      "Train Epoch: 2 [42880/60000 (71%)]\tLoss: 0.223923\n",
      "Train Epoch: 2 [43520/60000 (72%)]\tLoss: 0.384348\n",
      "Train Epoch: 2 [44160/60000 (74%)]\tLoss: 0.372702\n",
      "Train Epoch: 2 [44800/60000 (75%)]\tLoss: 0.430512\n",
      "Train Epoch: 2 [45440/60000 (76%)]\tLoss: 0.439716\n",
      "Train Epoch: 2 [46080/60000 (77%)]\tLoss: 0.416097\n",
      "Train Epoch: 2 [46720/60000 (78%)]\tLoss: 0.265796\n",
      "Train Epoch: 2 [47360/60000 (79%)]\tLoss: 0.277007\n",
      "Train Epoch: 2 [48000/60000 (80%)]\tLoss: 0.481632\n",
      "Train Epoch: 2 [48640/60000 (81%)]\tLoss: 0.359387\n",
      "Train Epoch: 2 [49280/60000 (82%)]\tLoss: 0.374587\n",
      "Train Epoch: 2 [49920/60000 (83%)]\tLoss: 0.322301\n",
      "Train Epoch: 2 [50560/60000 (84%)]\tLoss: 0.312938\n",
      "Train Epoch: 2 [51200/60000 (85%)]\tLoss: 0.443841\n",
      "Train Epoch: 2 [51840/60000 (86%)]\tLoss: 0.206591\n",
      "Train Epoch: 2 [52480/60000 (87%)]\tLoss: 0.391927\n",
      "Train Epoch: 2 [53120/60000 (88%)]\tLoss: 0.403618\n",
      "Train Epoch: 2 [53760/60000 (90%)]\tLoss: 0.283818\n",
      "Train Epoch: 2 [54400/60000 (91%)]\tLoss: 0.327471\n",
      "Train Epoch: 2 [55040/60000 (92%)]\tLoss: 0.326384\n",
      "Train Epoch: 2 [55680/60000 (93%)]\tLoss: 0.648545\n",
      "Train Epoch: 2 [56320/60000 (94%)]\tLoss: 0.321280\n",
      "Train Epoch: 2 [56960/60000 (95%)]\tLoss: 0.561543\n",
      "Train Epoch: 2 [57600/60000 (96%)]\tLoss: 0.375863\n",
      "Train Epoch: 2 [58240/60000 (97%)]\tLoss: 0.284235\n",
      "Train Epoch: 2 [58880/60000 (98%)]\tLoss: 0.211985\n",
      "Train Epoch: 2 [59520/60000 (99%)]\tLoss: 0.339230\n",
      "\n",
      "Test set: Avg. loss: 0.1268, Accuracy: 9608/10000 (96%)\n",
      "\n",
      "Train Epoch: 3 [0/60000 (0%)]\tLoss: 0.269767\n",
      "Train Epoch: 3 [640/60000 (1%)]\tLoss: 0.296035\n",
      "Train Epoch: 3 [1280/60000 (2%)]\tLoss: 0.370413\n",
      "Train Epoch: 3 [1920/60000 (3%)]\tLoss: 0.266813\n",
      "Train Epoch: 3 [2560/60000 (4%)]\tLoss: 0.382555\n",
      "Train Epoch: 3 [3200/60000 (5%)]\tLoss: 0.461837\n",
      "Train Epoch: 3 [3840/60000 (6%)]\tLoss: 0.386514\n",
      "Train Epoch: 3 [4480/60000 (7%)]\tLoss: 0.152523\n",
      "Train Epoch: 3 [5120/60000 (9%)]\tLoss: 0.245790\n",
      "Train Epoch: 3 [5760/60000 (10%)]\tLoss: 0.430846\n",
      "Train Epoch: 3 [6400/60000 (11%)]\tLoss: 0.353893\n",
      "Train Epoch: 3 [7040/60000 (12%)]\tLoss: 0.273484\n",
      "Train Epoch: 3 [7680/60000 (13%)]\tLoss: 0.388305\n",
      "Train Epoch: 3 [8320/60000 (14%)]\tLoss: 0.237198\n",
      "Train Epoch: 3 [8960/60000 (15%)]\tLoss: 0.413236\n",
      "Train Epoch: 3 [9600/60000 (16%)]\tLoss: 0.359758\n",
      "Train Epoch: 3 [10240/60000 (17%)]\tLoss: 0.459508\n",
      "Train Epoch: 3 [10880/60000 (18%)]\tLoss: 0.311301\n",
      "Train Epoch: 3 [11520/60000 (19%)]\tLoss: 0.279029\n",
      "Train Epoch: 3 [12160/60000 (20%)]\tLoss: 0.457261\n",
      "Train Epoch: 3 [12800/60000 (21%)]\tLoss: 0.282000\n",
      "Train Epoch: 3 [13440/60000 (22%)]\tLoss: 0.198484\n",
      "Train Epoch: 3 [14080/60000 (23%)]\tLoss: 0.216303\n",
      "Train Epoch: 3 [14720/60000 (25%)]\tLoss: 0.295774\n",
      "Train Epoch: 3 [15360/60000 (26%)]\tLoss: 0.190943\n",
      "Train Epoch: 3 [16000/60000 (27%)]\tLoss: 0.421821\n",
      "Train Epoch: 3 [16640/60000 (28%)]\tLoss: 0.290059\n",
      "Train Epoch: 3 [17280/60000 (29%)]\tLoss: 0.460305\n",
      "Train Epoch: 3 [17920/60000 (30%)]\tLoss: 0.272420\n",
      "Train Epoch: 3 [18560/60000 (31%)]\tLoss: 0.169381\n",
      "Train Epoch: 3 [19200/60000 (32%)]\tLoss: 0.605684\n",
      "Train Epoch: 3 [19840/60000 (33%)]\tLoss: 0.226694\n",
      "Train Epoch: 3 [20480/60000 (34%)]\tLoss: 0.333791\n",
      "Train Epoch: 3 [21120/60000 (35%)]\tLoss: 0.332424\n",
      "Train Epoch: 3 [21760/60000 (36%)]\tLoss: 0.289298\n",
      "Train Epoch: 3 [22400/60000 (37%)]\tLoss: 0.326083\n",
      "Train Epoch: 3 [23040/60000 (38%)]\tLoss: 0.452766\n",
      "Train Epoch: 3 [23680/60000 (39%)]\tLoss: 0.293482\n",
      "Train Epoch: 3 [24320/60000 (41%)]\tLoss: 0.323764\n",
      "Train Epoch: 3 [24960/60000 (42%)]\tLoss: 0.143381\n",
      "Train Epoch: 3 [25600/60000 (43%)]\tLoss: 0.277682\n",
      "Train Epoch: 3 [26240/60000 (44%)]\tLoss: 0.468018\n",
      "Train Epoch: 3 [26880/60000 (45%)]\tLoss: 0.242732\n",
      "Train Epoch: 3 [27520/60000 (46%)]\tLoss: 0.392137\n",
      "Train Epoch: 3 [28160/60000 (47%)]\tLoss: 0.229168\n",
      "Train Epoch: 3 [28800/60000 (48%)]\tLoss: 0.140476\n",
      "Train Epoch: 3 [29440/60000 (49%)]\tLoss: 0.197584\n",
      "Train Epoch: 3 [30080/60000 (50%)]\tLoss: 0.218780\n",
      "Train Epoch: 3 [30720/60000 (51%)]\tLoss: 0.336475\n",
      "Train Epoch: 3 [31360/60000 (52%)]\tLoss: 0.347322\n",
      "Train Epoch: 3 [32000/60000 (53%)]\tLoss: 0.314555\n",
      "Train Epoch: 3 [32640/60000 (54%)]\tLoss: 0.354377\n",
      "Train Epoch: 3 [33280/60000 (55%)]\tLoss: 0.343719\n",
      "Train Epoch: 3 [33920/60000 (57%)]\tLoss: 0.184260\n",
      "Train Epoch: 3 [34560/60000 (58%)]\tLoss: 0.307940\n",
      "Train Epoch: 3 [35200/60000 (59%)]\tLoss: 0.165016\n",
      "Train Epoch: 3 [35840/60000 (60%)]\tLoss: 0.312499\n",
      "Train Epoch: 3 [36480/60000 (61%)]\tLoss: 0.168307\n",
      "Train Epoch: 3 [37120/60000 (62%)]\tLoss: 0.416371\n",
      "Train Epoch: 3 [37760/60000 (63%)]\tLoss: 0.294573\n",
      "Train Epoch: 3 [38400/60000 (64%)]\tLoss: 0.205017\n",
      "Train Epoch: 3 [39040/60000 (65%)]\tLoss: 0.331437\n",
      "Train Epoch: 3 [39680/60000 (66%)]\tLoss: 0.143819\n",
      "Train Epoch: 3 [40320/60000 (67%)]\tLoss: 0.284366\n",
      "Train Epoch: 3 [40960/60000 (68%)]\tLoss: 0.291261\n",
      "Train Epoch: 3 [41600/60000 (69%)]\tLoss: 0.151748\n",
      "Train Epoch: 3 [42240/60000 (70%)]\tLoss: 0.184141\n",
      "Train Epoch: 3 [42880/60000 (71%)]\tLoss: 0.221978\n",
      "Train Epoch: 3 [43520/60000 (72%)]\tLoss: 0.252439\n"
     ]
    },
    {
     "name": "stdout",
     "output_type": "stream",
     "text": [
      "Train Epoch: 3 [44160/60000 (74%)]\tLoss: 0.317007\n",
      "Train Epoch: 3 [44800/60000 (75%)]\tLoss: 0.253613\n",
      "Train Epoch: 3 [45440/60000 (76%)]\tLoss: 0.244356\n",
      "Train Epoch: 3 [46080/60000 (77%)]\tLoss: 0.267757\n",
      "Train Epoch: 3 [46720/60000 (78%)]\tLoss: 0.534147\n",
      "Train Epoch: 3 [47360/60000 (79%)]\tLoss: 0.346594\n",
      "Train Epoch: 3 [48000/60000 (80%)]\tLoss: 0.395763\n",
      "Train Epoch: 3 [48640/60000 (81%)]\tLoss: 0.208188\n",
      "Train Epoch: 3 [49280/60000 (82%)]\tLoss: 0.162138\n",
      "Train Epoch: 3 [49920/60000 (83%)]\tLoss: 0.488596\n",
      "Train Epoch: 3 [50560/60000 (84%)]\tLoss: 0.301980\n",
      "Train Epoch: 3 [51200/60000 (85%)]\tLoss: 0.266382\n",
      "Train Epoch: 3 [51840/60000 (86%)]\tLoss: 0.226191\n",
      "Train Epoch: 3 [52480/60000 (87%)]\tLoss: 0.227062\n",
      "Train Epoch: 3 [53120/60000 (88%)]\tLoss: 0.251021\n",
      "Train Epoch: 3 [53760/60000 (90%)]\tLoss: 0.422545\n",
      "Train Epoch: 3 [54400/60000 (91%)]\tLoss: 0.427200\n",
      "Train Epoch: 3 [55040/60000 (92%)]\tLoss: 0.281048\n",
      "Train Epoch: 3 [55680/60000 (93%)]\tLoss: 0.252998\n",
      "Train Epoch: 3 [56320/60000 (94%)]\tLoss: 0.301540\n",
      "Train Epoch: 3 [56960/60000 (95%)]\tLoss: 0.307689\n",
      "Train Epoch: 3 [57600/60000 (96%)]\tLoss: 0.176442\n",
      "Train Epoch: 3 [58240/60000 (97%)]\tLoss: 0.100525\n",
      "Train Epoch: 3 [58880/60000 (98%)]\tLoss: 0.189278\n",
      "Train Epoch: 3 [59520/60000 (99%)]\tLoss: 0.321651\n",
      "\n",
      "Test set: Avg. loss: 0.0924, Accuracy: 9724/10000 (97%)\n",
      "\n"
     ]
    },
    {
     "data": {
      "image/png": "[encoded data removed]",
      "text/plain": [
       "<Figure size 432x288 with 1 Axes>"
      ]
     },
     "metadata": {
      "needs_background": "light"
     },
     "output_type": "display_data"
    }
   ],
   "source": [
    "# test()\n",
    "for epoch in range(1, n_epochs + 1):\n",
    "  train(epoch)\n",
    "  test()\n",
    "import matplotlib.pyplot as plt\n",
    "fig = plt.figure()\n",
    "plt.plot(train_counter, train_losses, color='blue')\n",
    "plt.scatter(test_counter, test_losses, color='red')\n",
    "plt.legend(['Train Loss', 'Test Loss'], loc='upper right')\n",
    "plt.xlabel('number of training examples seen')\n",
    "plt.ylabel('negative log likelihood loss')\n",
    "plt.show()"
   ]
  }
 ],
 "metadata": {
  "kernelspec": {
   "display_name": "pjw",
   "language": "python",
   "name": "pjw"
  },
  "language_info": {
   "codemirror_mode": {
    "name": "ipython",
    "version": 3
   },
   "file_extension": ".py",
   "mimetype": "text/x-python",
   "name": "python",
   "nbconvert_exporter": "python",
   "pygments_lexer": "ipython3",
   "version": "3.7.8"
  }
 },
 "nbformat": 4,
 "nbformat_minor": 4
}
